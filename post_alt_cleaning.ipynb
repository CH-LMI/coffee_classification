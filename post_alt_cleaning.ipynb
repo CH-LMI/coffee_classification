{
 "cells": [
  {
   "cell_type": "code",
   "execution_count": 217,
   "metadata": {
    "hideCode": false,
    "hidePrompt": false
   },
   "outputs": [],
   "source": [
    "import pandas as pd"
   ]
  },
  {
   "cell_type": "code",
   "execution_count": 218,
   "metadata": {
    "hideCode": false,
    "hidePrompt": false
   },
   "outputs": [],
   "source": [
    "df = pd.read_csv('data/alt_clean.csv')"
   ]
  },
  {
   "cell_type": "code",
   "execution_count": 219,
   "metadata": {
    "hideCode": false,
    "hidePrompt": false
   },
   "outputs": [
    {
     "data": {
      "text/html": [
       "<div>\n",
       "<style scoped>\n",
       "    .dataframe tbody tr th:only-of-type {\n",
       "        vertical-align: middle;\n",
       "    }\n",
       "\n",
       "    .dataframe tbody tr th {\n",
       "        vertical-align: top;\n",
       "    }\n",
       "\n",
       "    .dataframe thead th {\n",
       "        text-align: right;\n",
       "    }\n",
       "</style>\n",
       "<table border=\"1\" class=\"dataframe\">\n",
       "  <thead>\n",
       "    <tr style=\"text-align: right;\">\n",
       "      <th></th>\n",
       "      <th>Unnamed: 0</th>\n",
       "      <th>Owner</th>\n",
       "      <th>Country of Origin</th>\n",
       "      <th>Altitude</th>\n",
       "      <th>Region</th>\n",
       "      <th>In-Country Partner</th>\n",
       "      <th>Variety</th>\n",
       "      <th>Processing Method</th>\n",
       "      <th>Aroma</th>\n",
       "      <th>Flavor</th>\n",
       "      <th>...</th>\n",
       "      <th>Moisture</th>\n",
       "      <th>Category One Defects</th>\n",
       "      <th>Quakers</th>\n",
       "      <th>Color</th>\n",
       "      <th>Category Two Defects</th>\n",
       "      <th>year</th>\n",
       "      <th>Price</th>\n",
       "      <th>target</th>\n",
       "      <th>Altitude2</th>\n",
       "      <th>alt</th>\n",
       "    </tr>\n",
       "  </thead>\n",
       "  <tbody>\n",
       "    <tr>\n",
       "      <th>0</th>\n",
       "      <td>0</td>\n",
       "      <td>metad plc</td>\n",
       "      <td>ethiopia</td>\n",
       "      <td>1950-2200</td>\n",
       "      <td>guji-hambela/goyo</td>\n",
       "      <td>metad agricultural development plc</td>\n",
       "      <td>NaN</td>\n",
       "      <td>washed / wet</td>\n",
       "      <td>8.67</td>\n",
       "      <td>8.83</td>\n",
       "      <td>...</td>\n",
       "      <td>12 %</td>\n",
       "      <td>0 full defects</td>\n",
       "      <td>0.0</td>\n",
       "      <td>green</td>\n",
       "      <td>0 full defects</td>\n",
       "      <td>2015</td>\n",
       "      <td>76.03</td>\n",
       "      <td>1.0</td>\n",
       "      <td>NaN</td>\n",
       "      <td>2075.0</td>\n",
       "    </tr>\n",
       "    <tr>\n",
       "      <th>1</th>\n",
       "      <td>1</td>\n",
       "      <td>metad plc</td>\n",
       "      <td>ethiopia</td>\n",
       "      <td>1950-2200</td>\n",
       "      <td>guji-hambela/alaka</td>\n",
       "      <td>metad agricultural development plc</td>\n",
       "      <td>other</td>\n",
       "      <td>washed / wet</td>\n",
       "      <td>8.75</td>\n",
       "      <td>8.67</td>\n",
       "      <td>...</td>\n",
       "      <td>12 %</td>\n",
       "      <td>0 full defects</td>\n",
       "      <td>0.0</td>\n",
       "      <td>green</td>\n",
       "      <td>1 full defects</td>\n",
       "      <td>2015</td>\n",
       "      <td>76.03</td>\n",
       "      <td>1.0</td>\n",
       "      <td>NaN</td>\n",
       "      <td>2075.0</td>\n",
       "    </tr>\n",
       "    <tr>\n",
       "      <th>2</th>\n",
       "      <td>2</td>\n",
       "      <td>grounds for health admin</td>\n",
       "      <td>guatemala</td>\n",
       "      <td>1600 - 1800 m</td>\n",
       "      <td>NaN</td>\n",
       "      <td>specialty coffee association</td>\n",
       "      <td>bourbon</td>\n",
       "      <td>NaN</td>\n",
       "      <td>8.42</td>\n",
       "      <td>8.50</td>\n",
       "      <td>...</td>\n",
       "      <td>0 %</td>\n",
       "      <td>0 full defects</td>\n",
       "      <td>0.0</td>\n",
       "      <td>NaN</td>\n",
       "      <td>0 full defects</td>\n",
       "      <td>2010</td>\n",
       "      <td>144.77</td>\n",
       "      <td>1.0</td>\n",
       "      <td>NaN</td>\n",
       "      <td>1700.0</td>\n",
       "    </tr>\n",
       "    <tr>\n",
       "      <th>3</th>\n",
       "      <td>3</td>\n",
       "      <td>yidnekachew dabessa</td>\n",
       "      <td>ethiopia</td>\n",
       "      <td>1800-2200</td>\n",
       "      <td>oromia</td>\n",
       "      <td>metad agricultural development plc</td>\n",
       "      <td>NaN</td>\n",
       "      <td>natural / dry</td>\n",
       "      <td>8.17</td>\n",
       "      <td>8.58</td>\n",
       "      <td>...</td>\n",
       "      <td>11 %</td>\n",
       "      <td>0 full defects</td>\n",
       "      <td>0.0</td>\n",
       "      <td>green</td>\n",
       "      <td>2 full defects</td>\n",
       "      <td>2015</td>\n",
       "      <td>76.03</td>\n",
       "      <td>1.0</td>\n",
       "      <td>NaN</td>\n",
       "      <td>2000.0</td>\n",
       "    </tr>\n",
       "    <tr>\n",
       "      <th>4</th>\n",
       "      <td>4</td>\n",
       "      <td>metad plc</td>\n",
       "      <td>ethiopia</td>\n",
       "      <td>1950-2200</td>\n",
       "      <td>guji-hambela/bishan fugu</td>\n",
       "      <td>metad agricultural development plc</td>\n",
       "      <td>other</td>\n",
       "      <td>washed / wet</td>\n",
       "      <td>8.25</td>\n",
       "      <td>8.50</td>\n",
       "      <td>...</td>\n",
       "      <td>12 %</td>\n",
       "      <td>0 full defects</td>\n",
       "      <td>0.0</td>\n",
       "      <td>green</td>\n",
       "      <td>2 full defects</td>\n",
       "      <td>2015</td>\n",
       "      <td>76.03</td>\n",
       "      <td>1.0</td>\n",
       "      <td>NaN</td>\n",
       "      <td>2075.0</td>\n",
       "    </tr>\n",
       "  </tbody>\n",
       "</table>\n",
       "<p>5 rows × 28 columns</p>\n",
       "</div>"
      ],
      "text/plain": [
       "   Unnamed: 0                     Owner Country of Origin       Altitude  \\\n",
       "0           0                 metad plc          ethiopia      1950-2200   \n",
       "1           1                 metad plc          ethiopia      1950-2200   \n",
       "2           2  grounds for health admin         guatemala  1600 - 1800 m   \n",
       "3           3       yidnekachew dabessa          ethiopia      1800-2200   \n",
       "4           4                 metad plc          ethiopia      1950-2200   \n",
       "\n",
       "                     Region                  In-Country Partner  Variety  \\\n",
       "0         guji-hambela/goyo  metad agricultural development plc      NaN   \n",
       "1        guji-hambela/alaka  metad agricultural development plc    other   \n",
       "2                       NaN        specialty coffee association  bourbon   \n",
       "3                    oromia  metad agricultural development plc      NaN   \n",
       "4  guji-hambela/bishan fugu  metad agricultural development plc    other   \n",
       "\n",
       "  Processing Method  Aroma  Flavor   ...    Moisture  Category One Defects  \\\n",
       "0      washed / wet   8.67    8.83   ...        12 %        0 full defects   \n",
       "1      washed / wet   8.75    8.67   ...        12 %        0 full defects   \n",
       "2               NaN   8.42    8.50   ...         0 %        0 full defects   \n",
       "3     natural / dry   8.17    8.58   ...        11 %        0 full defects   \n",
       "4      washed / wet   8.25    8.50   ...        12 %        0 full defects   \n",
       "\n",
       "   Quakers  Color  Category Two Defects  year   Price  target Altitude2  \\\n",
       "0      0.0  green        0 full defects  2015   76.03     1.0       NaN   \n",
       "1      0.0  green        1 full defects  2015   76.03     1.0       NaN   \n",
       "2      0.0    NaN        0 full defects  2010  144.77     1.0       NaN   \n",
       "3      0.0  green        2 full defects  2015   76.03     1.0       NaN   \n",
       "4      0.0  green        2 full defects  2015   76.03     1.0       NaN   \n",
       "\n",
       "      alt  \n",
       "0  2075.0  \n",
       "1  2075.0  \n",
       "2  1700.0  \n",
       "3  2000.0  \n",
       "4  2075.0  \n",
       "\n",
       "[5 rows x 28 columns]"
      ]
     },
     "execution_count": 219,
     "metadata": {},
     "output_type": "execute_result"
    }
   ],
   "source": [
    "df.head()"
   ]
  },
  {
   "cell_type": "code",
   "execution_count": 220,
   "metadata": {
    "hideCode": false,
    "hidePrompt": false
   },
   "outputs": [],
   "source": [
    "df.index = df.index.map(str)"
   ]
  },
  {
   "cell_type": "code",
   "execution_count": 221,
   "metadata": {
    "hideCode": false,
    "hidePrompt": false
   },
   "outputs": [],
   "source": [
    "df = df.drop(['Unnamed: 0', 'Altitude2'], axis=1)"
   ]
  },
  {
   "cell_type": "code",
   "execution_count": 222,
   "metadata": {
    "hideCode": false,
    "hidePrompt": false
   },
   "outputs": [
    {
     "data": {
      "text/html": [
       "<div>\n",
       "<style scoped>\n",
       "    .dataframe tbody tr th:only-of-type {\n",
       "        vertical-align: middle;\n",
       "    }\n",
       "\n",
       "    .dataframe tbody tr th {\n",
       "        vertical-align: top;\n",
       "    }\n",
       "\n",
       "    .dataframe thead th {\n",
       "        text-align: right;\n",
       "    }\n",
       "</style>\n",
       "<table border=\"1\" class=\"dataframe\">\n",
       "  <thead>\n",
       "    <tr style=\"text-align: right;\">\n",
       "      <th></th>\n",
       "      <th>Aroma</th>\n",
       "      <th>Flavor</th>\n",
       "      <th>Aftertaste</th>\n",
       "      <th>Acidity</th>\n",
       "      <th>Body</th>\n",
       "      <th>Balance</th>\n",
       "      <th>Uniformity</th>\n",
       "      <th>Clean Cup</th>\n",
       "      <th>Sweetness</th>\n",
       "      <th>Cupper Points</th>\n",
       "      <th>Quakers</th>\n",
       "      <th>year</th>\n",
       "      <th>Price</th>\n",
       "      <th>target</th>\n",
       "      <th>alt</th>\n",
       "    </tr>\n",
       "  </thead>\n",
       "  <tbody>\n",
       "    <tr>\n",
       "      <th>count</th>\n",
       "      <td>1260.000000</td>\n",
       "      <td>1260.000000</td>\n",
       "      <td>1260.000000</td>\n",
       "      <td>1260.000000</td>\n",
       "      <td>1260.000000</td>\n",
       "      <td>1260.000000</td>\n",
       "      <td>1260.000000</td>\n",
       "      <td>1260.000000</td>\n",
       "      <td>1260.000000</td>\n",
       "      <td>1260.000000</td>\n",
       "      <td>1259.000000</td>\n",
       "      <td>1260.000000</td>\n",
       "      <td>689.000000</td>\n",
       "      <td>1260.000000</td>\n",
       "      <td>1069.000000</td>\n",
       "    </tr>\n",
       "    <tr>\n",
       "      <th>mean</th>\n",
       "      <td>7.562143</td>\n",
       "      <td>7.514905</td>\n",
       "      <td>7.394929</td>\n",
       "      <td>7.532722</td>\n",
       "      <td>7.513151</td>\n",
       "      <td>7.513857</td>\n",
       "      <td>9.826651</td>\n",
       "      <td>9.824778</td>\n",
       "      <td>9.898310</td>\n",
       "      <td>7.488468</td>\n",
       "      <td>0.181890</td>\n",
       "      <td>2010.613492</td>\n",
       "      <td>134.007257</td>\n",
       "      <td>0.511111</td>\n",
       "      <td>1611.146866</td>\n",
       "    </tr>\n",
       "    <tr>\n",
       "      <th>std</th>\n",
       "      <td>0.381595</td>\n",
       "      <td>0.403727</td>\n",
       "      <td>0.407221</td>\n",
       "      <td>0.380542</td>\n",
       "      <td>0.362258</td>\n",
       "      <td>0.410566</td>\n",
       "      <td>0.623977</td>\n",
       "      <td>0.827100</td>\n",
       "      <td>0.599722</td>\n",
       "      <td>0.464222</td>\n",
       "      <td>0.854869</td>\n",
       "      <td>79.624919</td>\n",
       "      <td>37.361261</td>\n",
       "      <td>0.500075</td>\n",
       "      <td>1008.184849</td>\n",
       "    </tr>\n",
       "    <tr>\n",
       "      <th>min</th>\n",
       "      <td>0.000000</td>\n",
       "      <td>0.000000</td>\n",
       "      <td>0.000000</td>\n",
       "      <td>0.000000</td>\n",
       "      <td>0.000000</td>\n",
       "      <td>0.000000</td>\n",
       "      <td>0.000000</td>\n",
       "      <td>0.000000</td>\n",
       "      <td>0.000000</td>\n",
       "      <td>0.000000</td>\n",
       "      <td>0.000000</td>\n",
       "      <td>13.000000</td>\n",
       "      <td>71.090000</td>\n",
       "      <td>0.000000</td>\n",
       "      <td>50.000000</td>\n",
       "    </tr>\n",
       "    <tr>\n",
       "      <th>25%</th>\n",
       "      <td>7.420000</td>\n",
       "      <td>7.330000</td>\n",
       "      <td>7.250000</td>\n",
       "      <td>7.330000</td>\n",
       "      <td>7.330000</td>\n",
       "      <td>7.330000</td>\n",
       "      <td>10.000000</td>\n",
       "      <td>10.000000</td>\n",
       "      <td>10.000000</td>\n",
       "      <td>7.250000</td>\n",
       "      <td>0.000000</td>\n",
       "      <td>2012.000000</td>\n",
       "      <td>110.470000</td>\n",
       "      <td>0.000000</td>\n",
       "      <td>1183.000000</td>\n",
       "    </tr>\n",
       "    <tr>\n",
       "      <th>50%</th>\n",
       "      <td>7.580000</td>\n",
       "      <td>7.500000</td>\n",
       "      <td>7.420000</td>\n",
       "      <td>7.500000</td>\n",
       "      <td>7.500000</td>\n",
       "      <td>7.500000</td>\n",
       "      <td>10.000000</td>\n",
       "      <td>10.000000</td>\n",
       "      <td>10.000000</td>\n",
       "      <td>7.500000</td>\n",
       "      <td>0.000000</td>\n",
       "      <td>2014.000000</td>\n",
       "      <td>127.060000</td>\n",
       "      <td>1.000000</td>\n",
       "      <td>1400.000000</td>\n",
       "    </tr>\n",
       "    <tr>\n",
       "      <th>75%</th>\n",
       "      <td>7.750000</td>\n",
       "      <td>7.750000</td>\n",
       "      <td>7.580000</td>\n",
       "      <td>7.750000</td>\n",
       "      <td>7.670000</td>\n",
       "      <td>7.750000</td>\n",
       "      <td>10.000000</td>\n",
       "      <td>10.000000</td>\n",
       "      <td>10.000000</td>\n",
       "      <td>7.750000</td>\n",
       "      <td>0.000000</td>\n",
       "      <td>2015.000000</td>\n",
       "      <td>152.830000</td>\n",
       "      <td>1.000000</td>\n",
       "      <td>1700.000000</td>\n",
       "    </tr>\n",
       "    <tr>\n",
       "      <th>max</th>\n",
       "      <td>8.750000</td>\n",
       "      <td>8.830000</td>\n",
       "      <td>8.670000</td>\n",
       "      <td>8.750000</td>\n",
       "      <td>8.580000</td>\n",
       "      <td>8.750000</td>\n",
       "      <td>10.000000</td>\n",
       "      <td>10.000000</td>\n",
       "      <td>10.000000</td>\n",
       "      <td>10.000000</td>\n",
       "      <td>11.000000</td>\n",
       "      <td>2018.000000</td>\n",
       "      <td>239.680000</td>\n",
       "      <td>1.000000</td>\n",
       "      <td>9607.000000</td>\n",
       "    </tr>\n",
       "  </tbody>\n",
       "</table>\n",
       "</div>"
      ],
      "text/plain": [
       "             Aroma       Flavor   Aftertaste      Acidity         Body  \\\n",
       "count  1260.000000  1260.000000  1260.000000  1260.000000  1260.000000   \n",
       "mean      7.562143     7.514905     7.394929     7.532722     7.513151   \n",
       "std       0.381595     0.403727     0.407221     0.380542     0.362258   \n",
       "min       0.000000     0.000000     0.000000     0.000000     0.000000   \n",
       "25%       7.420000     7.330000     7.250000     7.330000     7.330000   \n",
       "50%       7.580000     7.500000     7.420000     7.500000     7.500000   \n",
       "75%       7.750000     7.750000     7.580000     7.750000     7.670000   \n",
       "max       8.750000     8.830000     8.670000     8.750000     8.580000   \n",
       "\n",
       "           Balance   Uniformity    Clean Cup    Sweetness  Cupper Points  \\\n",
       "count  1260.000000  1260.000000  1260.000000  1260.000000    1260.000000   \n",
       "mean      7.513857     9.826651     9.824778     9.898310       7.488468   \n",
       "std       0.410566     0.623977     0.827100     0.599722       0.464222   \n",
       "min       0.000000     0.000000     0.000000     0.000000       0.000000   \n",
       "25%       7.330000    10.000000    10.000000    10.000000       7.250000   \n",
       "50%       7.500000    10.000000    10.000000    10.000000       7.500000   \n",
       "75%       7.750000    10.000000    10.000000    10.000000       7.750000   \n",
       "max       8.750000    10.000000    10.000000    10.000000      10.000000   \n",
       "\n",
       "           Quakers         year       Price       target          alt  \n",
       "count  1259.000000  1260.000000  689.000000  1260.000000  1069.000000  \n",
       "mean      0.181890  2010.613492  134.007257     0.511111  1611.146866  \n",
       "std       0.854869    79.624919   37.361261     0.500075  1008.184849  \n",
       "min       0.000000    13.000000   71.090000     0.000000    50.000000  \n",
       "25%       0.000000  2012.000000  110.470000     0.000000  1183.000000  \n",
       "50%       0.000000  2014.000000  127.060000     1.000000  1400.000000  \n",
       "75%       0.000000  2015.000000  152.830000     1.000000  1700.000000  \n",
       "max      11.000000  2018.000000  239.680000     1.000000  9607.000000  "
      ]
     },
     "execution_count": 222,
     "metadata": {},
     "output_type": "execute_result"
    }
   ],
   "source": [
    "df.describe()"
   ]
  },
  {
   "cell_type": "code",
   "execution_count": 223,
   "metadata": {
    "hideCode": false,
    "hidePrompt": false
   },
   "outputs": [],
   "source": [
    "alt_list = []\n",
    "i = 0 \n",
    "while i < 1260:\n",
    "    for row in df['alt']:\n",
    "        alt_list.append(row)\n",
    "        i+=1"
   ]
  },
  {
   "cell_type": "code",
   "execution_count": 231,
   "metadata": {
    "hideCode": false,
    "hidePrompt": false
   },
   "outputs": [],
   "source": [
    "# convert values above 2000 to feet based on coffee research \n",
    "for i in range(len(alt_list)):\n",
    "    if float(alt_list[i]) >= 2000.0:\n",
    "        alt_list[i] = float(alt_list[i]) * .3048    "
   ]
  },
  {
   "cell_type": "code",
   "execution_count": 232,
   "metadata": {
    "hideCode": false,
    "hidePrompt": false
   },
   "outputs": [],
   "source": [
    "#test to ensure we converted values above 2000\n",
    "high_el = []\n",
    "for i in range(len(alt_list)):\n",
    "    if alt_list[i] != 'nan':\n",
    "        if float(alt_list[i]) >= 2000.0:\n",
    "            high_el.append(alt_list[i]) "
   ]
  },
  {
   "cell_type": "code",
   "execution_count": 233,
   "metadata": {
    "hideCode": false,
    "hidePrompt": false
   },
   "outputs": [
    {
     "data": {
      "text/plain": [
       "[]"
      ]
     },
     "execution_count": 233,
     "metadata": {},
     "output_type": "execute_result"
    }
   ],
   "source": [
    "high_el"
   ]
  },
  {
   "cell_type": "code",
   "execution_count": 234,
   "metadata": {
    "hideCode": false,
    "hidePrompt": false
   },
   "outputs": [],
   "source": [
    "df['final_alt'] = alt_list"
   ]
  },
  {
   "cell_type": "code",
   "execution_count": 235,
   "metadata": {
    "hideCode": false,
    "hidePrompt": false
   },
   "outputs": [
    {
     "data": {
      "text/html": [
       "<div>\n",
       "<style scoped>\n",
       "    .dataframe tbody tr th:only-of-type {\n",
       "        vertical-align: middle;\n",
       "    }\n",
       "\n",
       "    .dataframe tbody tr th {\n",
       "        vertical-align: top;\n",
       "    }\n",
       "\n",
       "    .dataframe thead th {\n",
       "        text-align: right;\n",
       "    }\n",
       "</style>\n",
       "<table border=\"1\" class=\"dataframe\">\n",
       "  <thead>\n",
       "    <tr style=\"text-align: right;\">\n",
       "      <th></th>\n",
       "      <th>Aroma</th>\n",
       "      <th>Flavor</th>\n",
       "      <th>Aftertaste</th>\n",
       "      <th>Acidity</th>\n",
       "      <th>Body</th>\n",
       "      <th>Balance</th>\n",
       "      <th>Uniformity</th>\n",
       "      <th>Clean Cup</th>\n",
       "      <th>Sweetness</th>\n",
       "      <th>Cupper Points</th>\n",
       "      <th>Quakers</th>\n",
       "      <th>year</th>\n",
       "      <th>Price</th>\n",
       "      <th>target</th>\n",
       "      <th>alt</th>\n",
       "      <th>final_alt</th>\n",
       "    </tr>\n",
       "  </thead>\n",
       "  <tbody>\n",
       "    <tr>\n",
       "      <th>count</th>\n",
       "      <td>1260.000000</td>\n",
       "      <td>1260.000000</td>\n",
       "      <td>1260.000000</td>\n",
       "      <td>1260.000000</td>\n",
       "      <td>1260.000000</td>\n",
       "      <td>1260.000000</td>\n",
       "      <td>1260.000000</td>\n",
       "      <td>1260.000000</td>\n",
       "      <td>1260.000000</td>\n",
       "      <td>1260.000000</td>\n",
       "      <td>1259.000000</td>\n",
       "      <td>1260.000000</td>\n",
       "      <td>689.000000</td>\n",
       "      <td>1260.000000</td>\n",
       "      <td>1069.000000</td>\n",
       "      <td>1069.000000</td>\n",
       "    </tr>\n",
       "    <tr>\n",
       "      <th>mean</th>\n",
       "      <td>7.562143</td>\n",
       "      <td>7.514905</td>\n",
       "      <td>7.394929</td>\n",
       "      <td>7.532722</td>\n",
       "      <td>7.513151</td>\n",
       "      <td>7.513857</td>\n",
       "      <td>9.826651</td>\n",
       "      <td>9.824778</td>\n",
       "      <td>9.898310</td>\n",
       "      <td>7.488468</td>\n",
       "      <td>0.181890</td>\n",
       "      <td>2010.613492</td>\n",
       "      <td>134.007257</td>\n",
       "      <td>0.511111</td>\n",
       "      <td>1611.146866</td>\n",
       "      <td>1311.004660</td>\n",
       "    </tr>\n",
       "    <tr>\n",
       "      <th>std</th>\n",
       "      <td>0.381595</td>\n",
       "      <td>0.403727</td>\n",
       "      <td>0.407221</td>\n",
       "      <td>0.380542</td>\n",
       "      <td>0.362258</td>\n",
       "      <td>0.410566</td>\n",
       "      <td>0.623977</td>\n",
       "      <td>0.827100</td>\n",
       "      <td>0.599722</td>\n",
       "      <td>0.464222</td>\n",
       "      <td>0.854869</td>\n",
       "      <td>79.624919</td>\n",
       "      <td>37.361261</td>\n",
       "      <td>0.500075</td>\n",
       "      <td>1008.184849</td>\n",
       "      <td>374.673663</td>\n",
       "    </tr>\n",
       "    <tr>\n",
       "      <th>min</th>\n",
       "      <td>0.000000</td>\n",
       "      <td>0.000000</td>\n",
       "      <td>0.000000</td>\n",
       "      <td>0.000000</td>\n",
       "      <td>0.000000</td>\n",
       "      <td>0.000000</td>\n",
       "      <td>0.000000</td>\n",
       "      <td>0.000000</td>\n",
       "      <td>0.000000</td>\n",
       "      <td>0.000000</td>\n",
       "      <td>0.000000</td>\n",
       "      <td>13.000000</td>\n",
       "      <td>71.090000</td>\n",
       "      <td>0.000000</td>\n",
       "      <td>50.000000</td>\n",
       "      <td>50.000000</td>\n",
       "    </tr>\n",
       "    <tr>\n",
       "      <th>25%</th>\n",
       "      <td>7.420000</td>\n",
       "      <td>7.330000</td>\n",
       "      <td>7.250000</td>\n",
       "      <td>7.330000</td>\n",
       "      <td>7.330000</td>\n",
       "      <td>7.330000</td>\n",
       "      <td>10.000000</td>\n",
       "      <td>10.000000</td>\n",
       "      <td>10.000000</td>\n",
       "      <td>7.250000</td>\n",
       "      <td>0.000000</td>\n",
       "      <td>2012.000000</td>\n",
       "      <td>110.470000</td>\n",
       "      <td>0.000000</td>\n",
       "      <td>1183.000000</td>\n",
       "      <td>1100.000000</td>\n",
       "    </tr>\n",
       "    <tr>\n",
       "      <th>50%</th>\n",
       "      <td>7.580000</td>\n",
       "      <td>7.500000</td>\n",
       "      <td>7.420000</td>\n",
       "      <td>7.500000</td>\n",
       "      <td>7.500000</td>\n",
       "      <td>7.500000</td>\n",
       "      <td>10.000000</td>\n",
       "      <td>10.000000</td>\n",
       "      <td>10.000000</td>\n",
       "      <td>7.500000</td>\n",
       "      <td>0.000000</td>\n",
       "      <td>2014.000000</td>\n",
       "      <td>127.060000</td>\n",
       "      <td>1.000000</td>\n",
       "      <td>1400.000000</td>\n",
       "      <td>1310.640000</td>\n",
       "    </tr>\n",
       "    <tr>\n",
       "      <th>75%</th>\n",
       "      <td>7.750000</td>\n",
       "      <td>7.750000</td>\n",
       "      <td>7.580000</td>\n",
       "      <td>7.750000</td>\n",
       "      <td>7.670000</td>\n",
       "      <td>7.750000</td>\n",
       "      <td>10.000000</td>\n",
       "      <td>10.000000</td>\n",
       "      <td>10.000000</td>\n",
       "      <td>7.750000</td>\n",
       "      <td>0.000000</td>\n",
       "      <td>2015.000000</td>\n",
       "      <td>152.830000</td>\n",
       "      <td>1.000000</td>\n",
       "      <td>1700.000000</td>\n",
       "      <td>1600.000000</td>\n",
       "    </tr>\n",
       "    <tr>\n",
       "      <th>max</th>\n",
       "      <td>8.750000</td>\n",
       "      <td>8.830000</td>\n",
       "      <td>8.670000</td>\n",
       "      <td>8.750000</td>\n",
       "      <td>8.580000</td>\n",
       "      <td>8.750000</td>\n",
       "      <td>10.000000</td>\n",
       "      <td>10.000000</td>\n",
       "      <td>10.000000</td>\n",
       "      <td>10.000000</td>\n",
       "      <td>11.000000</td>\n",
       "      <td>2018.000000</td>\n",
       "      <td>239.680000</td>\n",
       "      <td>1.000000</td>\n",
       "      <td>9607.000000</td>\n",
       "      <td>1950.000000</td>\n",
       "    </tr>\n",
       "  </tbody>\n",
       "</table>\n",
       "</div>"
      ],
      "text/plain": [
       "             Aroma       Flavor   Aftertaste      Acidity         Body  \\\n",
       "count  1260.000000  1260.000000  1260.000000  1260.000000  1260.000000   \n",
       "mean      7.562143     7.514905     7.394929     7.532722     7.513151   \n",
       "std       0.381595     0.403727     0.407221     0.380542     0.362258   \n",
       "min       0.000000     0.000000     0.000000     0.000000     0.000000   \n",
       "25%       7.420000     7.330000     7.250000     7.330000     7.330000   \n",
       "50%       7.580000     7.500000     7.420000     7.500000     7.500000   \n",
       "75%       7.750000     7.750000     7.580000     7.750000     7.670000   \n",
       "max       8.750000     8.830000     8.670000     8.750000     8.580000   \n",
       "\n",
       "           Balance   Uniformity    Clean Cup    Sweetness  Cupper Points  \\\n",
       "count  1260.000000  1260.000000  1260.000000  1260.000000    1260.000000   \n",
       "mean      7.513857     9.826651     9.824778     9.898310       7.488468   \n",
       "std       0.410566     0.623977     0.827100     0.599722       0.464222   \n",
       "min       0.000000     0.000000     0.000000     0.000000       0.000000   \n",
       "25%       7.330000    10.000000    10.000000    10.000000       7.250000   \n",
       "50%       7.500000    10.000000    10.000000    10.000000       7.500000   \n",
       "75%       7.750000    10.000000    10.000000    10.000000       7.750000   \n",
       "max       8.750000    10.000000    10.000000    10.000000      10.000000   \n",
       "\n",
       "           Quakers         year       Price       target          alt  \\\n",
       "count  1259.000000  1260.000000  689.000000  1260.000000  1069.000000   \n",
       "mean      0.181890  2010.613492  134.007257     0.511111  1611.146866   \n",
       "std       0.854869    79.624919   37.361261     0.500075  1008.184849   \n",
       "min       0.000000    13.000000   71.090000     0.000000    50.000000   \n",
       "25%       0.000000  2012.000000  110.470000     0.000000  1183.000000   \n",
       "50%       0.000000  2014.000000  127.060000     1.000000  1400.000000   \n",
       "75%       0.000000  2015.000000  152.830000     1.000000  1700.000000   \n",
       "max      11.000000  2018.000000  239.680000     1.000000  9607.000000   \n",
       "\n",
       "         final_alt  \n",
       "count  1069.000000  \n",
       "mean   1311.004660  \n",
       "std     374.673663  \n",
       "min      50.000000  \n",
       "25%    1100.000000  \n",
       "50%    1310.640000  \n",
       "75%    1600.000000  \n",
       "max    1950.000000  "
      ]
     },
     "execution_count": 235,
     "metadata": {},
     "output_type": "execute_result"
    }
   ],
   "source": [
    "df.describe()"
   ]
  },
  {
   "cell_type": "code",
   "execution_count": 236,
   "metadata": {
    "hideCode": false,
    "hidePrompt": false
   },
   "outputs": [],
   "source": [
    "df['final_alt'].fillna('nan', inplace=True)"
   ]
  },
  {
   "cell_type": "code",
   "execution_count": 237,
   "metadata": {
    "hideCode": false,
    "hidePrompt": false
   },
   "outputs": [],
   "source": [
    "#loop through to find the unique region names associated with missing altitude values\n",
    "i = 0 \n",
    "missing_alt = []\n",
    "while i < 1260:\n",
    "    for row in df['final_alt']:\n",
    "        if row == 'nan':\n",
    "            missing_alt.append(df.at[str(i), 'Region'])\n",
    "        i+=1"
   ]
  },
  {
   "cell_type": "code",
   "execution_count": 238,
   "metadata": {
    "hideCode": false,
    "hidePrompt": false
   },
   "outputs": [],
   "source": [
    "region_missing = list(set(missing_alt))"
   ]
  },
  {
   "cell_type": "code",
   "execution_count": 239,
   "metadata": {
    "hideCode": false,
    "hideOutput": true,
    "hidePrompt": false
   },
   "outputs": [
    {
     "data": {
      "text/plain": [
       "[nan,\n",
       " 'chapadão de ferro (cerrado mineiro)',\n",
       " 'test',\n",
       " 'bener meriah',\n",
       " 'taiwan',\n",
       " 'el tumbador, san marcos',\n",
       " 'pitalito-huila',\n",
       " 'veracruz',\n",
       " 'thailand',\n",
       " 'san marcos, ocotepeque',\n",
       " 'kelem welega',\n",
       " 'huanuco',\n",
       " 'cerrado - campos altos',\n",
       " 'guayatá',\n",
       " 'kefa zone, gimbo distict, at a place called woka araba, south west ethiopia.',\n",
       " 'matagalpa',\n",
       " '台灣',\n",
       " 'monte carmelo - cerrado',\n",
       " 'nueva segovia',\n",
       " 'san rafael',\n",
       " 'sipi, mt. elgon',\n",
       " 'south of minas gerais',\n",
       " 'chickmangalore',\n",
       " 'oriente',\n",
       " 'cajamarca',\n",
       " 'moshi rural',\n",
       " 'unkown',\n",
       " 'kona',\n",
       " 'nuevo oriente',\n",
       " 'monte carmelo',\n",
       " 'grama valley',\n",
       " 'jinotega',\n",
       " 'benguet, mountain province',\n",
       " 'cauca',\n",
       " 'antigua',\n",
       " 'san marcos',\n",
       " 'la plata',\n",
       " 'arusha',\n",
       " 'central valley',\n",
       " 'eastern uganda',\n",
       " 'yirgacheffe',\n",
       " 'tarrazu',\n",
       " 'teocelo',\n",
       " 'vale da grama',\n",
       " 'huila',\n",
       " 'peru',\n",
       " 'sidamo',\n",
       " 'limu',\n",
       " 'jinotega, nicaragua',\n",
       " 'huehuetenango',\n",
       " 'mmm',\n",
       " 'addis ababa',\n",
       " 'cerrado - monte carmelo',\n",
       " 'puno',\n",
       " 'santa rosa',\n",
       " 'campos altos - cerrado',\n",
       " 'south of minas',\n",
       " 'guatemala',\n",
       " 'cerrado',\n",
       " 'aceh tengah']"
      ]
     },
     "execution_count": 239,
     "metadata": {},
     "output_type": "execute_result"
    }
   ],
   "source": [
    "region_missing"
   ]
  },
  {
   "cell_type": "code",
   "execution_count": 240,
   "metadata": {
    "hideCode": false,
    "hidePrompt": false
   },
   "outputs": [],
   "source": [
    "#loop through to find the unique country names associated with missing altitude values in case there are no region matches\n",
    "i = 0 \n",
    "missing_alt2 = []\n",
    "while i < 1260:\n",
    "    for row in df['final_alt']:\n",
    "        if row == 'nan':\n",
    "            missing_alt2.append(df.at[str(i), 'Country of Origin'])\n",
    "        i+=1"
   ]
  },
  {
   "cell_type": "code",
   "execution_count": 241,
   "metadata": {
    "hideCode": false,
    "hidePrompt": false
   },
   "outputs": [],
   "source": [
    "country_missing = list(set(missing_alt2))"
   ]
  },
  {
   "cell_type": "code",
   "execution_count": 242,
   "metadata": {
    "hideCode": false,
    "hidePrompt": false
   },
   "outputs": [
    {
     "data": {
      "text/plain": [
       "['philippines',\n",
       " 'united states (hawaii)',\n",
       " 'brazil',\n",
       " 'tanzania, united republic of',\n",
       " 'kenya',\n",
       " 'taiwan',\n",
       " 'honduras',\n",
       " 'ethiopia',\n",
       " 'mexico',\n",
       " 'nicaragua',\n",
       " 'indonesia',\n",
       " 'india',\n",
       " 'thailand',\n",
       " 'colombia',\n",
       " 'uganda',\n",
       " 'costa rica',\n",
       " 'guatemala',\n",
       " 'peru']"
      ]
     },
     "execution_count": 242,
     "metadata": {},
     "output_type": "execute_result"
    }
   ],
   "source": [
    "country_missing"
   ]
  },
  {
   "cell_type": "code",
   "execution_count": 243,
   "metadata": {
    "hideCode": false,
    "hidePrompt": false
   },
   "outputs": [],
   "source": [
    "#finds average for missing regions \n",
    "def region_alt(region):\n",
    "    j = 0\n",
    "    list_2=[]\n",
    "    while j < 1260:\n",
    "        if df.at[str(j), \"Region\"] == region:\n",
    "            if (df.at[str(j),'final_alt']) != \"nan\":\n",
    "                list_2.append(df.at[str(j),'final_alt'])\n",
    "        j += 1\n",
    "    if len(list_2) > 0:    \n",
    "        return sum(list_2)/len(list_2)"
   ]
  },
  {
   "cell_type": "code",
   "execution_count": 244,
   "metadata": {
    "hideCode": false,
    "hidePrompt": false
   },
   "outputs": [
    {
     "data": {
      "text/plain": [
       "659.75975264"
      ]
     },
     "execution_count": 244,
     "metadata": {},
     "output_type": "execute_result"
    }
   ],
   "source": [
    "region_alt('kona')"
   ]
  },
  {
   "cell_type": "code",
   "execution_count": 245,
   "metadata": {
    "hideCode": false,
    "hidePrompt": false
   },
   "outputs": [],
   "source": [
    "region_dict = {}\n",
    "for i in region_missing:\n",
    "    region_dict[i] = region_alt(i)"
   ]
  },
  {
   "cell_type": "code",
   "execution_count": 247,
   "metadata": {
    "hideCode": false,
    "hidePrompt": false
   },
   "outputs": [
    {
     "data": {
      "text/plain": [
       "{nan: None,\n",
       " 'chapadão de ferro (cerrado mineiro)': None,\n",
       " 'test': None,\n",
       " 'bener meriah': 1500.0,\n",
       " 'taiwan': 125.0,\n",
       " 'el tumbador, san marcos': 1371.0,\n",
       " 'pitalito-huila': None,\n",
       " 'veracruz': 1113.6363636363637,\n",
       " 'thailand': 836.3636363636364,\n",
       " 'san marcos, ocotepeque': None,\n",
       " 'kelem welega': None,\n",
       " 'huanuco': None,\n",
       " 'cerrado - campos altos': None,\n",
       " 'guayatá': 1600.0,\n",
       " 'kefa zone, gimbo distict, at a place called woka araba, south west ethiopia.': None,\n",
       " 'matagalpa': None,\n",
       " '台灣': 1200.0,\n",
       " 'monte carmelo - cerrado': 973.0,\n",
       " 'nueva segovia': None,\n",
       " 'san rafael': None,\n",
       " 'sipi, mt. elgon': None,\n",
       " 'south of minas gerais': 954.9722222222222,\n",
       " 'chickmangalore': None,\n",
       " 'oriente': 1319.364242424242,\n",
       " 'cajamarca': None,\n",
       " 'moshi rural': None,\n",
       " 'unkown': None,\n",
       " 'kona': 659.75975264,\n",
       " 'nuevo oriente': 1354.5038737066668,\n",
       " 'monte carmelo': None,\n",
       " 'grama valley': 1133.3333333333333,\n",
       " 'jinotega': 1122.8333333333333,\n",
       " 'benguet, mountain province': None,\n",
       " 'cauca': 1682.5,\n",
       " 'antigua': 1492.2001714285714,\n",
       " 'san marcos': 1657.9666666666665,\n",
       " 'la plata': 1862.5,\n",
       " 'arusha': 1485.0,\n",
       " 'central valley': None,\n",
       " 'eastern uganda': 1775.0,\n",
       " 'yirgacheffe': 1875.0,\n",
       " 'tarrazu': 1746.6666666666667,\n",
       " 'teocelo': 1190.0,\n",
       " 'vale da grama': 1281.25,\n",
       " 'huila': 1595.6489361702127,\n",
       " 'peru': None,\n",
       " 'sidamo': 1725.0,\n",
       " 'limu': None,\n",
       " 'jinotega, nicaragua': 1200.0,\n",
       " 'huehuetenango': 1529.5074133333335,\n",
       " 'mmm': None,\n",
       " 'addis ababa': None,\n",
       " 'cerrado - monte carmelo': None,\n",
       " 'puno': None,\n",
       " 'santa rosa': 1312.0,\n",
       " 'campos altos - cerrado': None,\n",
       " 'south of minas': 1250.0,\n",
       " 'guatemala': None,\n",
       " 'cerrado': 1008.0,\n",
       " 'aceh tengah': None}"
      ]
     },
     "execution_count": 247,
     "metadata": {},
     "output_type": "execute_result"
    }
   ],
   "source": [
    "region_dict"
   ]
  },
  {
   "cell_type": "code",
   "execution_count": 249,
   "metadata": {
    "hideCode": false,
    "hidePrompt": false
   },
   "outputs": [],
   "source": [
    "#set missing df['alt'] values equal to region average when possible \n",
    "def set_region_alt(key, value):\n",
    "    j = 0\n",
    "    while j < 1260:\n",
    "        if value != None:\n",
    "            if df.at[str(j), \"Region\"] == key:\n",
    "                if df.at[str(j), 'final_alt'] == 'nan':\n",
    "                    df.at[str(j), 'final_alt'] = value        \n",
    "        j += 1    "
   ]
  },
  {
   "cell_type": "code",
   "execution_count": 250,
   "metadata": {
    "hideCode": false,
    "hidePrompt": false
   },
   "outputs": [],
   "source": [
    "for i in region_dict:\n",
    "    set_region_alt(i, region_dict[i])"
   ]
  },
  {
   "cell_type": "code",
   "execution_count": 255,
   "metadata": {
    "hideCode": false,
    "hidePrompt": false
   },
   "outputs": [
    {
     "data": {
      "text/plain": [
       "41"
      ]
     },
     "execution_count": 255,
     "metadata": {},
     "output_type": "execute_result"
    }
   ],
   "source": [
    "sum(df['final_alt'] == 'nan')"
   ]
  },
  {
   "cell_type": "code",
   "execution_count": 256,
   "metadata": {
    "hideCode": false,
    "hidePrompt": false
   },
   "outputs": [],
   "source": [
    "#finds average for missing countries in cases where there were no matching regions\n",
    "def country_alt(country):\n",
    "    j = 0\n",
    "    list_2=[]\n",
    "    while j < 1260:\n",
    "        if df.at[str(j), \"Country of Origin\"] == country:\n",
    "            if (df.at[str(j),'final_alt']) != \"nan\":\n",
    "                list_2.append(df.at[str(j),'final_alt'])\n",
    "        j += 1\n",
    "    if len(list_2) > 0:    \n",
    "        return sum(list_2)/len(list_2)"
   ]
  },
  {
   "cell_type": "code",
   "execution_count": 257,
   "metadata": {
    "hideCode": false,
    "hidePrompt": false
   },
   "outputs": [],
   "source": [
    "country_dict = {}\n",
    "for i in country_missing:\n",
    "    country_dict[i] = country_alt(i)"
   ]
  },
  {
   "cell_type": "code",
   "execution_count": 258,
   "metadata": {
    "hideCode": false,
    "hidePrompt": false
   },
   "outputs": [
    {
     "data": {
      "text/plain": [
       "{'philippines': 1350.0,\n",
       " 'united states (hawaii)': 659.7597526399993,\n",
       " 'brazil': 1062.5319940476186,\n",
       " 'tanzania, united republic of': 1570.5123157894736,\n",
       " 'kenya': 1557.7818181818182,\n",
       " 'taiwan': 727.1388888888889,\n",
       " 'honduras': 1426.92,\n",
       " 'ethiopia': 1605.3580102564101,\n",
       " 'mexico': 1239.7157164869027,\n",
       " 'nicaragua': 1129.4649122807018,\n",
       " 'indonesia': 1354.8315789473684,\n",
       " 'india': None,\n",
       " 'thailand': 1061.2648221343873,\n",
       " 'colombia': 1565.8184511622187,\n",
       " 'uganda': 1692.72,\n",
       " 'costa rica': 1451.3971631205673,\n",
       " 'guatemala': 1388.2088225074704,\n",
       " 'peru': 1374.8954666666668}"
      ]
     },
     "execution_count": 258,
     "metadata": {},
     "output_type": "execute_result"
    }
   ],
   "source": [
    "country_dict"
   ]
  },
  {
   "cell_type": "code",
   "execution_count": 259,
   "metadata": {
    "hideCode": false,
    "hidePrompt": false
   },
   "outputs": [],
   "source": [
    "#set missing df['alt'] values equal to country average when possible \n",
    "def set_country_alt(key, value):\n",
    "    j = 0\n",
    "    while j < 1260:\n",
    "        if value != None:\n",
    "            if df.at[str(j), \"Country of Origin\"] == key:\n",
    "                if df.at[str(j), 'final_alt'] == 'nan':\n",
    "                    df.at[str(j), 'final_alt'] = value        \n",
    "        j += 1 "
   ]
  },
  {
   "cell_type": "code",
   "execution_count": 260,
   "metadata": {
    "hideCode": false,
    "hidePrompt": false
   },
   "outputs": [],
   "source": [
    "for i in country_dict:\n",
    "    set_country_alt(i, country_dict[i])"
   ]
  },
  {
   "cell_type": "code",
   "execution_count": 261,
   "metadata": {
    "hideCode": false,
    "hidePrompt": false
   },
   "outputs": [
    {
     "data": {
      "text/plain": [
       "1"
      ]
     },
     "execution_count": 261,
     "metadata": {},
     "output_type": "execute_result"
    }
   ],
   "source": [
    "sum(df['final_alt'] == 'nan')"
   ]
  },
  {
   "cell_type": "code",
   "execution_count": 287,
   "metadata": {
    "hideCode": false,
    "hidePrompt": false
   },
   "outputs": [],
   "source": [
    "j = 0\n",
    "while j < 1260:\n",
    "    if df.at[str(j), 'final_alt'] == 'nan':\n",
    "        df = df.drop([str(j)])\n",
    "    j+=1"
   ]
  },
  {
   "cell_type": "code",
   "execution_count": 288,
   "metadata": {
    "hideCode": false,
    "hidePrompt": false
   },
   "outputs": [
    {
     "data": {
      "text/plain": [
       "0"
      ]
     },
     "execution_count": 288,
     "metadata": {},
     "output_type": "execute_result"
    }
   ],
   "source": [
    "sum(df['final_alt'] == 'nan')"
   ]
  },
  {
   "cell_type": "code",
   "execution_count": 296,
   "metadata": {
    "hideCode": false,
    "hidePrompt": false
   },
   "outputs": [],
   "source": [
    "df['final_final_alt'] = df['final_alt'].apply(lambda x: float(x))"
   ]
  },
  {
   "cell_type": "code",
   "execution_count": 297,
   "metadata": {
    "hideCode": false,
    "hidePrompt": false
   },
   "outputs": [
    {
     "data": {
      "text/html": [
       "<div>\n",
       "<style scoped>\n",
       "    .dataframe tbody tr th:only-of-type {\n",
       "        vertical-align: middle;\n",
       "    }\n",
       "\n",
       "    .dataframe tbody tr th {\n",
       "        vertical-align: top;\n",
       "    }\n",
       "\n",
       "    .dataframe thead th {\n",
       "        text-align: right;\n",
       "    }\n",
       "</style>\n",
       "<table border=\"1\" class=\"dataframe\">\n",
       "  <thead>\n",
       "    <tr style=\"text-align: right;\">\n",
       "      <th></th>\n",
       "      <th>Aroma</th>\n",
       "      <th>Flavor</th>\n",
       "      <th>Aftertaste</th>\n",
       "      <th>Acidity</th>\n",
       "      <th>Body</th>\n",
       "      <th>Balance</th>\n",
       "      <th>Uniformity</th>\n",
       "      <th>Clean Cup</th>\n",
       "      <th>Sweetness</th>\n",
       "      <th>Cupper Points</th>\n",
       "      <th>Quakers</th>\n",
       "      <th>year</th>\n",
       "      <th>Price</th>\n",
       "      <th>target</th>\n",
       "      <th>alt</th>\n",
       "      <th>final_final_alt</th>\n",
       "    </tr>\n",
       "  </thead>\n",
       "  <tbody>\n",
       "    <tr>\n",
       "      <th>count</th>\n",
       "      <td>1259.000000</td>\n",
       "      <td>1259.000000</td>\n",
       "      <td>1259.000000</td>\n",
       "      <td>1259.000000</td>\n",
       "      <td>1259.000000</td>\n",
       "      <td>1259.000000</td>\n",
       "      <td>1259.000000</td>\n",
       "      <td>1259.000000</td>\n",
       "      <td>1259.000000</td>\n",
       "      <td>1259.000000</td>\n",
       "      <td>1258.000000</td>\n",
       "      <td>1259.000000</td>\n",
       "      <td>688.000000</td>\n",
       "      <td>1259.000000</td>\n",
       "      <td>1069.000000</td>\n",
       "      <td>1259.000000</td>\n",
       "    </tr>\n",
       "    <tr>\n",
       "      <th>mean</th>\n",
       "      <td>7.562057</td>\n",
       "      <td>7.515052</td>\n",
       "      <td>7.395107</td>\n",
       "      <td>7.533407</td>\n",
       "      <td>7.513423</td>\n",
       "      <td>7.513932</td>\n",
       "      <td>9.827045</td>\n",
       "      <td>9.824639</td>\n",
       "      <td>9.900874</td>\n",
       "      <td>7.488523</td>\n",
       "      <td>0.176471</td>\n",
       "      <td>2010.608419</td>\n",
       "      <td>134.004724</td>\n",
       "      <td>0.511517</td>\n",
       "      <td>1611.146866</td>\n",
       "      <td>1281.361946</td>\n",
       "    </tr>\n",
       "    <tr>\n",
       "      <th>std</th>\n",
       "      <td>0.381734</td>\n",
       "      <td>0.403854</td>\n",
       "      <td>0.407334</td>\n",
       "      <td>0.379915</td>\n",
       "      <td>0.362273</td>\n",
       "      <td>0.410721</td>\n",
       "      <td>0.624068</td>\n",
       "      <td>0.827414</td>\n",
       "      <td>0.593010</td>\n",
       "      <td>0.464403</td>\n",
       "      <td>0.833289</td>\n",
       "      <td>79.656356</td>\n",
       "      <td>37.388383</td>\n",
       "      <td>0.500066</td>\n",
       "      <td>1008.184849</td>\n",
       "      <td>386.087245</td>\n",
       "    </tr>\n",
       "    <tr>\n",
       "      <th>min</th>\n",
       "      <td>0.000000</td>\n",
       "      <td>0.000000</td>\n",
       "      <td>0.000000</td>\n",
       "      <td>0.000000</td>\n",
       "      <td>0.000000</td>\n",
       "      <td>0.000000</td>\n",
       "      <td>0.000000</td>\n",
       "      <td>0.000000</td>\n",
       "      <td>0.000000</td>\n",
       "      <td>0.000000</td>\n",
       "      <td>0.000000</td>\n",
       "      <td>13.000000</td>\n",
       "      <td>71.090000</td>\n",
       "      <td>0.000000</td>\n",
       "      <td>50.000000</td>\n",
       "      <td>50.000000</td>\n",
       "    </tr>\n",
       "    <tr>\n",
       "      <th>25%</th>\n",
       "      <td>7.420000</td>\n",
       "      <td>7.330000</td>\n",
       "      <td>7.250000</td>\n",
       "      <td>7.330000</td>\n",
       "      <td>7.330000</td>\n",
       "      <td>7.330000</td>\n",
       "      <td>10.000000</td>\n",
       "      <td>10.000000</td>\n",
       "      <td>10.000000</td>\n",
       "      <td>7.250000</td>\n",
       "      <td>0.000000</td>\n",
       "      <td>2012.000000</td>\n",
       "      <td>110.470000</td>\n",
       "      <td>0.000000</td>\n",
       "      <td>1183.000000</td>\n",
       "      <td>1062.531994</td>\n",
       "    </tr>\n",
       "    <tr>\n",
       "      <th>50%</th>\n",
       "      <td>7.580000</td>\n",
       "      <td>7.500000</td>\n",
       "      <td>7.420000</td>\n",
       "      <td>7.500000</td>\n",
       "      <td>7.500000</td>\n",
       "      <td>7.500000</td>\n",
       "      <td>10.000000</td>\n",
       "      <td>10.000000</td>\n",
       "      <td>10.000000</td>\n",
       "      <td>7.500000</td>\n",
       "      <td>0.000000</td>\n",
       "      <td>2014.000000</td>\n",
       "      <td>127.060000</td>\n",
       "      <td>1.000000</td>\n",
       "      <td>1400.000000</td>\n",
       "      <td>1300.000000</td>\n",
       "    </tr>\n",
       "    <tr>\n",
       "      <th>75%</th>\n",
       "      <td>7.750000</td>\n",
       "      <td>7.750000</td>\n",
       "      <td>7.580000</td>\n",
       "      <td>7.750000</td>\n",
       "      <td>7.670000</td>\n",
       "      <td>7.750000</td>\n",
       "      <td>10.000000</td>\n",
       "      <td>10.000000</td>\n",
       "      <td>10.000000</td>\n",
       "      <td>7.750000</td>\n",
       "      <td>0.000000</td>\n",
       "      <td>2015.000000</td>\n",
       "      <td>152.830000</td>\n",
       "      <td>1.000000</td>\n",
       "      <td>1700.000000</td>\n",
       "      <td>1595.648936</td>\n",
       "    </tr>\n",
       "    <tr>\n",
       "      <th>max</th>\n",
       "      <td>8.750000</td>\n",
       "      <td>8.830000</td>\n",
       "      <td>8.670000</td>\n",
       "      <td>8.750000</td>\n",
       "      <td>8.580000</td>\n",
       "      <td>8.750000</td>\n",
       "      <td>10.000000</td>\n",
       "      <td>10.000000</td>\n",
       "      <td>10.000000</td>\n",
       "      <td>10.000000</td>\n",
       "      <td>11.000000</td>\n",
       "      <td>2018.000000</td>\n",
       "      <td>239.680000</td>\n",
       "      <td>1.000000</td>\n",
       "      <td>9607.000000</td>\n",
       "      <td>1950.000000</td>\n",
       "    </tr>\n",
       "  </tbody>\n",
       "</table>\n",
       "</div>"
      ],
      "text/plain": [
       "             Aroma       Flavor   Aftertaste      Acidity         Body  \\\n",
       "count  1259.000000  1259.000000  1259.000000  1259.000000  1259.000000   \n",
       "mean      7.562057     7.515052     7.395107     7.533407     7.513423   \n",
       "std       0.381734     0.403854     0.407334     0.379915     0.362273   \n",
       "min       0.000000     0.000000     0.000000     0.000000     0.000000   \n",
       "25%       7.420000     7.330000     7.250000     7.330000     7.330000   \n",
       "50%       7.580000     7.500000     7.420000     7.500000     7.500000   \n",
       "75%       7.750000     7.750000     7.580000     7.750000     7.670000   \n",
       "max       8.750000     8.830000     8.670000     8.750000     8.580000   \n",
       "\n",
       "           Balance   Uniformity    Clean Cup    Sweetness  Cupper Points  \\\n",
       "count  1259.000000  1259.000000  1259.000000  1259.000000    1259.000000   \n",
       "mean      7.513932     9.827045     9.824639     9.900874       7.488523   \n",
       "std       0.410721     0.624068     0.827414     0.593010       0.464403   \n",
       "min       0.000000     0.000000     0.000000     0.000000       0.000000   \n",
       "25%       7.330000    10.000000    10.000000    10.000000       7.250000   \n",
       "50%       7.500000    10.000000    10.000000    10.000000       7.500000   \n",
       "75%       7.750000    10.000000    10.000000    10.000000       7.750000   \n",
       "max       8.750000    10.000000    10.000000    10.000000      10.000000   \n",
       "\n",
       "           Quakers         year       Price       target          alt  \\\n",
       "count  1258.000000  1259.000000  688.000000  1259.000000  1069.000000   \n",
       "mean      0.176471  2010.608419  134.004724     0.511517  1611.146866   \n",
       "std       0.833289    79.656356   37.388383     0.500066  1008.184849   \n",
       "min       0.000000    13.000000   71.090000     0.000000    50.000000   \n",
       "25%       0.000000  2012.000000  110.470000     0.000000  1183.000000   \n",
       "50%       0.000000  2014.000000  127.060000     1.000000  1400.000000   \n",
       "75%       0.000000  2015.000000  152.830000     1.000000  1700.000000   \n",
       "max      11.000000  2018.000000  239.680000     1.000000  9607.000000   \n",
       "\n",
       "       final_final_alt  \n",
       "count      1259.000000  \n",
       "mean       1281.361946  \n",
       "std         386.087245  \n",
       "min          50.000000  \n",
       "25%        1062.531994  \n",
       "50%        1300.000000  \n",
       "75%        1595.648936  \n",
       "max        1950.000000  "
      ]
     },
     "execution_count": 297,
     "metadata": {},
     "output_type": "execute_result"
    }
   ],
   "source": [
    "df.describe()"
   ]
  },
  {
   "cell_type": "code",
   "execution_count": 300,
   "metadata": {
    "hideCode": false,
    "hidePrompt": false
   },
   "outputs": [
    {
     "data": {
      "text/plain": [
       "washed / wet                 796\n",
       "natural / dry                241\n",
       "semi-washed / semi-pulped     56\n",
       "other                         26\n",
       "pulped natural / honey        14\n",
       "Name: Processing Method, dtype: int64"
      ]
     },
     "execution_count": 300,
     "metadata": {},
     "output_type": "execute_result"
    }
   ],
   "source": [
    "df['Processing Method'].value_counts()"
   ]
  },
  {
   "cell_type": "code",
   "execution_count": 305,
   "metadata": {
    "hideCode": false,
    "hidePrompt": false
   },
   "outputs": [
    {
     "data": {
      "text/plain": [
       "126"
      ]
     },
     "execution_count": 305,
     "metadata": {},
     "output_type": "execute_result"
    }
   ],
   "source": [
    "sum(df.isnull()['Processing Method'])"
   ]
  },
  {
   "cell_type": "code",
   "execution_count": 353,
   "metadata": {
    "hideCode": false,
    "hidePrompt": false
   },
   "outputs": [],
   "source": [
    "test = df"
   ]
  },
  {
   "cell_type": "code",
   "execution_count": 354,
   "metadata": {
    "hideCode": false,
    "hidePrompt": false
   },
   "outputs": [],
   "source": [
    "test = test.dropna(subset=['Processing Method'], how='all')"
   ]
  },
  {
   "cell_type": "code",
   "execution_count": 355,
   "metadata": {
    "hideCode": false,
    "hidePrompt": false
   },
   "outputs": [
    {
     "data": {
      "text/plain": [
       "(1133, 28)"
      ]
     },
     "execution_count": 355,
     "metadata": {},
     "output_type": "execute_result"
    }
   ],
   "source": [
    "test.shape"
   ]
  },
  {
   "cell_type": "code",
   "execution_count": 356,
   "metadata": {
    "hideCode": false,
    "hidePrompt": false,
    "scrolled": true
   },
   "outputs": [
    {
     "data": {
      "text/plain": [
       "washed / wet                 796\n",
       "natural / dry                241\n",
       "semi-washed / semi-pulped     56\n",
       "other                         26\n",
       "pulped natural / honey        14\n",
       "Name: Processing Method, dtype: int64"
      ]
     },
     "execution_count": 356,
     "metadata": {},
     "output_type": "execute_result"
    }
   ],
   "source": [
    "test['Processing Method'].value_counts()"
   ]
  },
  {
   "cell_type": "code",
   "execution_count": 357,
   "metadata": {
    "hideCode": false,
    "hidePrompt": false
   },
   "outputs": [
    {
     "data": {
      "text/plain": [
       "0"
      ]
     },
     "execution_count": 357,
     "metadata": {},
     "output_type": "execute_result"
    }
   ],
   "source": [
    "sum(test.isnull()['Processing Method'])"
   ]
  },
  {
   "cell_type": "code",
   "execution_count": 358,
   "metadata": {
    "hideCode": false,
    "hidePrompt": false
   },
   "outputs": [
    {
     "data": {
      "text/plain": [
       "green           811\n",
       "bluish-green    105\n",
       "blue-green       75\n",
       "none             48\n",
       "Name: Color, dtype: int64"
      ]
     },
     "execution_count": 358,
     "metadata": {},
     "output_type": "execute_result"
    }
   ],
   "source": [
    "test['Color'].value_counts()"
   ]
  },
  {
   "cell_type": "code",
   "execution_count": 359,
   "metadata": {
    "hideCode": false,
    "hidePrompt": false
   },
   "outputs": [
    {
     "data": {
      "text/plain": [
       "94"
      ]
     },
     "execution_count": 359,
     "metadata": {},
     "output_type": "execute_result"
    }
   ],
   "source": [
    "sum(test.isnull()['Color'])"
   ]
  },
  {
   "cell_type": "code",
   "execution_count": 360,
   "metadata": {
    "hideCode": false,
    "hidePrompt": false
   },
   "outputs": [
    {
     "data": {
      "text/plain": [
       "juan luis alvarado romero                             153\n",
       "ipanema coffees                                        50\n",
       "racafe & cia s.c.a                                     46\n",
       "cqi taiwan icp cqi台灣合作夥伴                               42\n",
       "exportadora de cafe condor s.a                         39\n",
       "lin, che-hao krude 林哲豪                                 30\n",
       "kona pacific farmers cooperative                       29\n",
       "carcafe ltda ci                                        23\n",
       "nucoffee                                               23\n",
       "alfredo bojalil                                        19\n",
       "eileen koyanagi                                        19\n",
       "the coffee source inc.                                 19\n",
       "afca                                                   17\n",
       "cadexsa                                                14\n",
       "saul m. hernandez ramirez                              13\n",
       "essencecoffee                                          12\n",
       "bismarck castro                                        12\n",
       "yunnan coffee exchange                                 12\n",
       "bourbon specialty coffees                              12\n",
       "doi tung development project                           12\n",
       "compañia colombiana agroindustrial s.a                 12\n",
       "israel eduardo paz garcia                              12\n",
       "lusso lab                                              11\n",
       "consejo salvadoreño del café                           11\n",
       "ceca, s.a.                                             10\n",
       "jacques pereira carneiro                                9\n",
       "eric thormaehlen                                        8\n",
       "松澤宏樹 koju matsuzawa                                     8\n",
       "dane loraas                                             7\n",
       "federacion nacional de cafeteros                        7\n",
       "                                                     ... \n",
       "grupo santab s.a de c.v.                                1\n",
       "brent hall                                              1\n",
       "asefa dukamo keroma                                     1\n",
       "u soe                                                   1\n",
       "simon mahinda                                           1\n",
       "wali ali                                                1\n",
       "didas                                                   1\n",
       "itiah coffee llc                                        1\n",
       "jose daniel cobilt castro                               1\n",
       "luis roberto fermoso beltran                            1\n",
       "joshua marsceau                                         1\n",
       "kao ming lee                                            1\n",
       "guillermo eduardo bobadilla muguira                     1\n",
       "gabriel bernardo rivas ross                             1\n",
       "debesa agro industry plc                                1\n",
       "acacia hills ltd                                        1\n",
       "octavio augusto diaz trejo                              1\n",
       "damaso martinez perez                                   1\n",
       "cafe politico                                           1\n",
       "rre kunene                                              1\n",
       "salvador caro carrion                                   1\n",
       "zarah zamora perez                                      1\n",
       "shah plantations                                        1\n",
       "productores de especialidad emiliano zapeata, spr.      1\n",
       "olivia hernandez virves                                 1\n",
       "artemio zapata tejeda                                   1\n",
       "jose manuel vergara cortes                              1\n",
       "mcomafa co ltd                                          1\n",
       "rob stephen                                             1\n",
       "gonzalo de aquino flores                                1\n",
       "Name: Owner, Length: 280, dtype: int64"
      ]
     },
     "execution_count": 360,
     "metadata": {},
     "output_type": "execute_result"
    }
   ],
   "source": [
    "test['Owner'].value_counts()"
   ]
  },
  {
   "cell_type": "code",
   "execution_count": 361,
   "metadata": {
    "hideCode": false,
    "hidePrompt": false
   },
   "outputs": [
    {
     "data": {
      "text/plain": [
       "0"
      ]
     },
     "execution_count": 361,
     "metadata": {},
     "output_type": "execute_result"
    }
   ],
   "source": [
    "sum(test.isnull()['Country of Origin'])"
   ]
  },
  {
   "cell_type": "code",
   "execution_count": 362,
   "metadata": {
    "hideCode": false,
    "hidePrompt": false
   },
   "outputs": [],
   "source": [
    "test = test.drop(['Variety', 'Owner', 'Region', 'Color', 'alt', 'final_alt', 'Altitude', 'Price'], axis=1)"
   ]
  },
  {
   "cell_type": "code",
   "execution_count": 363,
   "metadata": {
    "hideCode": false,
    "hidePrompt": false
   },
   "outputs": [
    {
     "data": {
      "text/html": [
       "<div>\n",
       "<style scoped>\n",
       "    .dataframe tbody tr th:only-of-type {\n",
       "        vertical-align: middle;\n",
       "    }\n",
       "\n",
       "    .dataframe tbody tr th {\n",
       "        vertical-align: top;\n",
       "    }\n",
       "\n",
       "    .dataframe thead th {\n",
       "        text-align: right;\n",
       "    }\n",
       "</style>\n",
       "<table border=\"1\" class=\"dataframe\">\n",
       "  <thead>\n",
       "    <tr style=\"text-align: right;\">\n",
       "      <th></th>\n",
       "      <th>Country of Origin</th>\n",
       "      <th>In-Country Partner</th>\n",
       "      <th>Processing Method</th>\n",
       "      <th>Aroma</th>\n",
       "      <th>Flavor</th>\n",
       "      <th>Aftertaste</th>\n",
       "      <th>Acidity</th>\n",
       "      <th>Body</th>\n",
       "      <th>Balance</th>\n",
       "      <th>Uniformity</th>\n",
       "      <th>Clean Cup</th>\n",
       "      <th>Sweetness</th>\n",
       "      <th>Cupper Points</th>\n",
       "      <th>Moisture</th>\n",
       "      <th>Category One Defects</th>\n",
       "      <th>Quakers</th>\n",
       "      <th>Category Two Defects</th>\n",
       "      <th>year</th>\n",
       "      <th>target</th>\n",
       "      <th>final_final_alt</th>\n",
       "    </tr>\n",
       "  </thead>\n",
       "  <tbody>\n",
       "    <tr>\n",
       "      <th>1253</th>\n",
       "      <td>honduras</td>\n",
       "      <td>instituto hondureño del café</td>\n",
       "      <td>washed / wet</td>\n",
       "      <td>7.00</td>\n",
       "      <td>6.33</td>\n",
       "      <td>6.17</td>\n",
       "      <td>6.50</td>\n",
       "      <td>6.67</td>\n",
       "      <td>6.17</td>\n",
       "      <td>8.00</td>\n",
       "      <td>8.00</td>\n",
       "      <td>8.00</td>\n",
       "      <td>6.33</td>\n",
       "      <td>10 %</td>\n",
       "      <td>0 full defects</td>\n",
       "      <td>0.0</td>\n",
       "      <td>4 full defects</td>\n",
       "      <td>2014</td>\n",
       "      <td>0.0</td>\n",
       "      <td>1450.00</td>\n",
       "    </tr>\n",
       "    <tr>\n",
       "      <th>1254</th>\n",
       "      <td>mexico</td>\n",
       "      <td>amecafe</td>\n",
       "      <td>washed / wet</td>\n",
       "      <td>7.08</td>\n",
       "      <td>6.83</td>\n",
       "      <td>6.25</td>\n",
       "      <td>7.42</td>\n",
       "      <td>7.25</td>\n",
       "      <td>6.75</td>\n",
       "      <td>10.00</td>\n",
       "      <td>0.00</td>\n",
       "      <td>10.00</td>\n",
       "      <td>6.75</td>\n",
       "      <td>11 %</td>\n",
       "      <td>0 full defects</td>\n",
       "      <td>0.0</td>\n",
       "      <td>20 full defects</td>\n",
       "      <td>2012</td>\n",
       "      <td>0.0</td>\n",
       "      <td>900.00</td>\n",
       "    </tr>\n",
       "    <tr>\n",
       "      <th>1255</th>\n",
       "      <td>haiti</td>\n",
       "      <td>specialty coffee association</td>\n",
       "      <td>natural / dry</td>\n",
       "      <td>6.75</td>\n",
       "      <td>6.58</td>\n",
       "      <td>6.42</td>\n",
       "      <td>6.67</td>\n",
       "      <td>7.08</td>\n",
       "      <td>6.67</td>\n",
       "      <td>9.33</td>\n",
       "      <td>6.00</td>\n",
       "      <td>6.00</td>\n",
       "      <td>6.42</td>\n",
       "      <td>14 %</td>\n",
       "      <td>8 full defects</td>\n",
       "      <td>0.0</td>\n",
       "      <td>16 full defects</td>\n",
       "      <td>2012</td>\n",
       "      <td>0.0</td>\n",
       "      <td>350.00</td>\n",
       "    </tr>\n",
       "    <tr>\n",
       "      <th>1256</th>\n",
       "      <td>nicaragua</td>\n",
       "      <td>instituto hondureño del café</td>\n",
       "      <td>other</td>\n",
       "      <td>7.25</td>\n",
       "      <td>6.58</td>\n",
       "      <td>6.33</td>\n",
       "      <td>6.25</td>\n",
       "      <td>6.42</td>\n",
       "      <td>6.08</td>\n",
       "      <td>6.00</td>\n",
       "      <td>6.00</td>\n",
       "      <td>6.00</td>\n",
       "      <td>6.17</td>\n",
       "      <td>13 %</td>\n",
       "      <td>1 full defects</td>\n",
       "      <td>0.0</td>\n",
       "      <td>5 full defects</td>\n",
       "      <td>2017</td>\n",
       "      <td>0.0</td>\n",
       "      <td>1100.00</td>\n",
       "    </tr>\n",
       "    <tr>\n",
       "      <th>1257</th>\n",
       "      <td>guatemala</td>\n",
       "      <td>asociacion nacional del café</td>\n",
       "      <td>washed / wet</td>\n",
       "      <td>7.50</td>\n",
       "      <td>6.67</td>\n",
       "      <td>6.67</td>\n",
       "      <td>7.67</td>\n",
       "      <td>7.33</td>\n",
       "      <td>6.67</td>\n",
       "      <td>8.00</td>\n",
       "      <td>1.33</td>\n",
       "      <td>1.33</td>\n",
       "      <td>6.67</td>\n",
       "      <td>10 %</td>\n",
       "      <td>0 full defects</td>\n",
       "      <td>0.0</td>\n",
       "      <td>4 full defects</td>\n",
       "      <td>2012</td>\n",
       "      <td>0.0</td>\n",
       "      <td>1417.32</td>\n",
       "    </tr>\n",
       "  </tbody>\n",
       "</table>\n",
       "</div>"
      ],
      "text/plain": [
       "     Country of Origin            In-Country Partner Processing Method  Aroma  \\\n",
       "1253          honduras  instituto hondureño del café      washed / wet   7.00   \n",
       "1254            mexico                       amecafe      washed / wet   7.08   \n",
       "1255             haiti  specialty coffee association     natural / dry   6.75   \n",
       "1256         nicaragua  instituto hondureño del café             other   7.25   \n",
       "1257         guatemala  asociacion nacional del café      washed / wet   7.50   \n",
       "\n",
       "      Flavor  Aftertaste  Acidity  Body  Balance  Uniformity  Clean Cup  \\\n",
       "1253    6.33        6.17     6.50  6.67     6.17        8.00       8.00   \n",
       "1254    6.83        6.25     7.42  7.25     6.75       10.00       0.00   \n",
       "1255    6.58        6.42     6.67  7.08     6.67        9.33       6.00   \n",
       "1256    6.58        6.33     6.25  6.42     6.08        6.00       6.00   \n",
       "1257    6.67        6.67     7.67  7.33     6.67        8.00       1.33   \n",
       "\n",
       "      Sweetness  Cupper Points Moisture Category One Defects  Quakers  \\\n",
       "1253       8.00           6.33     10 %       0 full defects      0.0   \n",
       "1254      10.00           6.75     11 %       0 full defects      0.0   \n",
       "1255       6.00           6.42     14 %       8 full defects      0.0   \n",
       "1256       6.00           6.17     13 %       1 full defects      0.0   \n",
       "1257       1.33           6.67     10 %       0 full defects      0.0   \n",
       "\n",
       "     Category Two Defects  year  target  final_final_alt  \n",
       "1253       4 full defects  2014     0.0          1450.00  \n",
       "1254      20 full defects  2012     0.0           900.00  \n",
       "1255      16 full defects  2012     0.0           350.00  \n",
       "1256       5 full defects  2017     0.0          1100.00  \n",
       "1257       4 full defects  2012     0.0          1417.32  "
      ]
     },
     "execution_count": 363,
     "metadata": {},
     "output_type": "execute_result"
    }
   ],
   "source": [
    "test.tail()"
   ]
  },
  {
   "cell_type": "code",
   "execution_count": 364,
   "metadata": {
    "hideCode": false,
    "hidePrompt": false
   },
   "outputs": [],
   "source": [
    "test = test.dropna()"
   ]
  },
  {
   "cell_type": "code",
   "execution_count": 365,
   "metadata": {
    "hideCode": false,
    "hidePrompt": false
   },
   "outputs": [
    {
     "data": {
      "text/plain": [
       "(1132, 20)"
      ]
     },
     "execution_count": 365,
     "metadata": {},
     "output_type": "execute_result"
    }
   ],
   "source": [
    "test.shape"
   ]
  },
  {
   "cell_type": "code",
   "execution_count": 366,
   "metadata": {
    "hideCode": false,
    "hidePrompt": false
   },
   "outputs": [],
   "source": [
    "#drop columns that could potentially present overfitting or have too many missing values that we cannot fill in \n",
    "df = df.drop(['Variety', 'Owner', 'Region', 'Color', 'alt', 'final_alt', 'Altitude', 'Price'], axis=1)"
   ]
  },
  {
   "cell_type": "code",
   "execution_count": 367,
   "metadata": {},
   "outputs": [],
   "source": [
    "#drop null values \n",
    "df = df.dropna()"
   ]
  },
  {
   "cell_type": "code",
   "execution_count": 368,
   "metadata": {},
   "outputs": [
    {
     "data": {
      "text/plain": [
       "(1132, 20)"
      ]
     },
     "execution_count": 368,
     "metadata": {},
     "output_type": "execute_result"
    }
   ],
   "source": [
    "df.shape"
   ]
  },
  {
   "cell_type": "code",
   "execution_count": 371,
   "metadata": {},
   "outputs": [
    {
     "data": {
      "text/plain": [
       "0 full defects     965\n",
       "1 full defects      78\n",
       "2 full defects      33\n",
       "4 full defects      16\n",
       "3 full defects      14\n",
       "5 full defects       9\n",
       "10 full defects      4\n",
       "7 full defects       3\n",
       "6 full defects       3\n",
       "31 full defects      2\n",
       "8 full defects       1\n",
       "9 full defects       1\n",
       "23 full defects      1\n",
       "11 full defects      1\n",
       "15 full defects      1\n",
       "Name: Category One Defects, dtype: int64"
      ]
     },
     "execution_count": 371,
     "metadata": {},
     "output_type": "execute_result"
    }
   ],
   "source": [
    "df['Category One Defects'].value_counts()"
   ]
  },
  {
   "cell_type": "code",
   "execution_count": 372,
   "metadata": {},
   "outputs": [
    {
     "data": {
      "text/plain": [
       "0 full defects     293\n",
       "1 full defects     171\n",
       "2 full defects     147\n",
       "3 full defects     117\n",
       "4 full defects     103\n",
       "5 full defects      68\n",
       "6 full defects      42\n",
       "7 full defects      36\n",
       "8 full defects      28\n",
       "9 full defects      21\n",
       "10 full defects     19\n",
       "12 full defects     12\n",
       "20 full defects      8\n",
       "13 full defects      8\n",
       "14 full defects      8\n",
       "11 full defects      8\n",
       "16 full defects      6\n",
       "15 full defects      5\n",
       "17 full defects      5\n",
       "26 full defects      3\n",
       "19 full defects      2\n",
       "23 full defects      2\n",
       "29 full defects      2\n",
       "30 full defects      2\n",
       "18 full defects      2\n",
       "21 full defects      2\n",
       "27 full defects      1\n",
       "24 full defects      1\n",
       "34 full defects      1\n",
       "22 full defects      1\n",
       "28 full defects      1\n",
       "40 full defects      1\n",
       "55 full defects      1\n",
       "45 full defects      1\n",
       "32 full defects      1\n",
       "38 full defects      1\n",
       "31 full defects      1\n",
       "47 full defects      1\n",
       "Name: Category Two Defects, dtype: int64"
      ]
     },
     "execution_count": 372,
     "metadata": {},
     "output_type": "execute_result"
    }
   ],
   "source": [
    "df['Category Two Defects'].value_counts()"
   ]
  },
  {
   "cell_type": "code",
   "execution_count": 378,
   "metadata": {},
   "outputs": [],
   "source": [
    "df['Category One Defects'] = df['Category One Defects'].apply(lambda x: int(x.replace(' full defects', '')))"
   ]
  },
  {
   "cell_type": "code",
   "execution_count": 375,
   "metadata": {},
   "outputs": [],
   "source": [
    "df['Category Two Defects'] = df['Category Two Defects'].apply(lambda x: int(x.replace(' full defects', '')))"
   ]
  },
  {
   "cell_type": "code",
   "execution_count": 380,
   "metadata": {},
   "outputs": [],
   "source": [
    "df['Moisture'] = df['Moisture'].apply(lambda x: int(x.replace(' %', '')))"
   ]
  },
  {
   "cell_type": "code",
   "execution_count": 381,
   "metadata": {},
   "outputs": [
    {
     "data": {
      "text/html": [
       "<div>\n",
       "<style scoped>\n",
       "    .dataframe tbody tr th:only-of-type {\n",
       "        vertical-align: middle;\n",
       "    }\n",
       "\n",
       "    .dataframe tbody tr th {\n",
       "        vertical-align: top;\n",
       "    }\n",
       "\n",
       "    .dataframe thead th {\n",
       "        text-align: right;\n",
       "    }\n",
       "</style>\n",
       "<table border=\"1\" class=\"dataframe\">\n",
       "  <thead>\n",
       "    <tr style=\"text-align: right;\">\n",
       "      <th></th>\n",
       "      <th>Country of Origin</th>\n",
       "      <th>In-Country Partner</th>\n",
       "      <th>Processing Method</th>\n",
       "      <th>Aroma</th>\n",
       "      <th>Flavor</th>\n",
       "      <th>Aftertaste</th>\n",
       "      <th>Acidity</th>\n",
       "      <th>Body</th>\n",
       "      <th>Balance</th>\n",
       "      <th>Uniformity</th>\n",
       "      <th>Clean Cup</th>\n",
       "      <th>Sweetness</th>\n",
       "      <th>Cupper Points</th>\n",
       "      <th>Moisture</th>\n",
       "      <th>Category One Defects</th>\n",
       "      <th>Quakers</th>\n",
       "      <th>Category Two Defects</th>\n",
       "      <th>year</th>\n",
       "      <th>target</th>\n",
       "      <th>final_final_alt</th>\n",
       "    </tr>\n",
       "  </thead>\n",
       "  <tbody>\n",
       "    <tr>\n",
       "      <th>0</th>\n",
       "      <td>ethiopia</td>\n",
       "      <td>metad agricultural development plc</td>\n",
       "      <td>washed / wet</td>\n",
       "      <td>8.67</td>\n",
       "      <td>8.83</td>\n",
       "      <td>8.67</td>\n",
       "      <td>8.75</td>\n",
       "      <td>8.50</td>\n",
       "      <td>8.42</td>\n",
       "      <td>10.0</td>\n",
       "      <td>10.0</td>\n",
       "      <td>10.0</td>\n",
       "      <td>8.75</td>\n",
       "      <td>12</td>\n",
       "      <td>0</td>\n",
       "      <td>0.0</td>\n",
       "      <td>0</td>\n",
       "      <td>2015</td>\n",
       "      <td>1.0</td>\n",
       "      <td>632.46</td>\n",
       "    </tr>\n",
       "    <tr>\n",
       "      <th>1</th>\n",
       "      <td>ethiopia</td>\n",
       "      <td>metad agricultural development plc</td>\n",
       "      <td>washed / wet</td>\n",
       "      <td>8.75</td>\n",
       "      <td>8.67</td>\n",
       "      <td>8.50</td>\n",
       "      <td>8.58</td>\n",
       "      <td>8.42</td>\n",
       "      <td>8.42</td>\n",
       "      <td>10.0</td>\n",
       "      <td>10.0</td>\n",
       "      <td>10.0</td>\n",
       "      <td>8.58</td>\n",
       "      <td>12</td>\n",
       "      <td>0</td>\n",
       "      <td>0.0</td>\n",
       "      <td>1</td>\n",
       "      <td>2015</td>\n",
       "      <td>1.0</td>\n",
       "      <td>632.46</td>\n",
       "    </tr>\n",
       "    <tr>\n",
       "      <th>3</th>\n",
       "      <td>ethiopia</td>\n",
       "      <td>metad agricultural development plc</td>\n",
       "      <td>natural / dry</td>\n",
       "      <td>8.17</td>\n",
       "      <td>8.58</td>\n",
       "      <td>8.42</td>\n",
       "      <td>8.42</td>\n",
       "      <td>8.50</td>\n",
       "      <td>8.25</td>\n",
       "      <td>10.0</td>\n",
       "      <td>10.0</td>\n",
       "      <td>10.0</td>\n",
       "      <td>8.67</td>\n",
       "      <td>11</td>\n",
       "      <td>0</td>\n",
       "      <td>0.0</td>\n",
       "      <td>2</td>\n",
       "      <td>2015</td>\n",
       "      <td>1.0</td>\n",
       "      <td>609.60</td>\n",
       "    </tr>\n",
       "    <tr>\n",
       "      <th>4</th>\n",
       "      <td>ethiopia</td>\n",
       "      <td>metad agricultural development plc</td>\n",
       "      <td>washed / wet</td>\n",
       "      <td>8.25</td>\n",
       "      <td>8.50</td>\n",
       "      <td>8.25</td>\n",
       "      <td>8.50</td>\n",
       "      <td>8.42</td>\n",
       "      <td>8.33</td>\n",
       "      <td>10.0</td>\n",
       "      <td>10.0</td>\n",
       "      <td>10.0</td>\n",
       "      <td>8.58</td>\n",
       "      <td>12</td>\n",
       "      <td>0</td>\n",
       "      <td>0.0</td>\n",
       "      <td>2</td>\n",
       "      <td>2015</td>\n",
       "      <td>1.0</td>\n",
       "      <td>632.46</td>\n",
       "    </tr>\n",
       "    <tr>\n",
       "      <th>7</th>\n",
       "      <td>ethiopia</td>\n",
       "      <td>metad agricultural development plc</td>\n",
       "      <td>natural / dry</td>\n",
       "      <td>8.08</td>\n",
       "      <td>8.58</td>\n",
       "      <td>8.50</td>\n",
       "      <td>8.50</td>\n",
       "      <td>7.67</td>\n",
       "      <td>8.42</td>\n",
       "      <td>10.0</td>\n",
       "      <td>10.0</td>\n",
       "      <td>10.0</td>\n",
       "      <td>8.50</td>\n",
       "      <td>10</td>\n",
       "      <td>0</td>\n",
       "      <td>0.0</td>\n",
       "      <td>4</td>\n",
       "      <td>2015</td>\n",
       "      <td>1.0</td>\n",
       "      <td>1822.00</td>\n",
       "    </tr>\n",
       "  </tbody>\n",
       "</table>\n",
       "</div>"
      ],
      "text/plain": [
       "  Country of Origin                  In-Country Partner Processing Method  \\\n",
       "0          ethiopia  metad agricultural development plc      washed / wet   \n",
       "1          ethiopia  metad agricultural development plc      washed / wet   \n",
       "3          ethiopia  metad agricultural development plc     natural / dry   \n",
       "4          ethiopia  metad agricultural development plc      washed / wet   \n",
       "7          ethiopia  metad agricultural development plc     natural / dry   \n",
       "\n",
       "   Aroma  Flavor  Aftertaste  Acidity  Body  Balance  Uniformity  Clean Cup  \\\n",
       "0   8.67    8.83        8.67     8.75  8.50     8.42        10.0       10.0   \n",
       "1   8.75    8.67        8.50     8.58  8.42     8.42        10.0       10.0   \n",
       "3   8.17    8.58        8.42     8.42  8.50     8.25        10.0       10.0   \n",
       "4   8.25    8.50        8.25     8.50  8.42     8.33        10.0       10.0   \n",
       "7   8.08    8.58        8.50     8.50  7.67     8.42        10.0       10.0   \n",
       "\n",
       "   Sweetness  Cupper Points  Moisture  Category One Defects  Quakers  \\\n",
       "0       10.0           8.75        12                     0      0.0   \n",
       "1       10.0           8.58        12                     0      0.0   \n",
       "3       10.0           8.67        11                     0      0.0   \n",
       "4       10.0           8.58        12                     0      0.0   \n",
       "7       10.0           8.50        10                     0      0.0   \n",
       "\n",
       "   Category Two Defects  year  target  final_final_alt  \n",
       "0                     0  2015     1.0           632.46  \n",
       "1                     1  2015     1.0           632.46  \n",
       "3                     2  2015     1.0           609.60  \n",
       "4                     2  2015     1.0           632.46  \n",
       "7                     4  2015     1.0          1822.00  "
      ]
     },
     "execution_count": 381,
     "metadata": {},
     "output_type": "execute_result"
    }
   ],
   "source": [
    "df.head()"
   ]
  },
  {
   "cell_type": "code",
   "execution_count": null,
   "metadata": {},
   "outputs": [],
   "source": []
  }
 ],
 "metadata": {
  "hide_code_all_hidden": false,
  "kernelspec": {
   "display_name": "Python 3",
   "language": "python",
   "name": "python3"
  },
  "language_info": {
   "codemirror_mode": {
    "name": "ipython",
    "version": 3
   },
   "file_extension": ".py",
   "mimetype": "text/x-python",
   "name": "python",
   "nbconvert_exporter": "python",
   "pygments_lexer": "ipython3",
   "version": "3.7.0"
  }
 },
 "nbformat": 4,
 "nbformat_minor": 2
}
